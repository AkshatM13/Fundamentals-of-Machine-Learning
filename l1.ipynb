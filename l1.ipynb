{
 "cells": [
  {
   "cell_type": "code",
   "execution_count": 6,
   "metadata": {},
   "outputs": [
    {
     "name": "stdout",
     "output_type": "stream",
     "text": [
      "<class 'str'>\n"
     ]
    }
   ],
   "source": [
    "n=input(\"Enter the number\")\n",
    "print(type(n))"
   ]
  },
  {
   "cell_type": "code",
   "execution_count": 7,
   "metadata": {},
   "outputs": [
    {
     "name": "stdout",
     "output_type": "stream",
     "text": [
      "Bigger than 2\n"
     ]
    }
   ],
   "source": [
    "x=5\n",
    "if(x>2):\n",
    "    print(\"Bigger than 2\")\n",
    "else:\n",
    "    print(\"Smaller than 2\")"
   ]
  },
  {
   "cell_type": "code",
   "execution_count": 8,
   "metadata": {},
   "outputs": [
    {
     "name": "stdout",
     "output_type": "stream",
     "text": [
      "More than 1\n",
      "Less than 100\n",
      "All done\n"
     ]
    }
   ],
   "source": [
    "x=42\n",
    "if x>1:\n",
    "    print(\"More than 1\")\n",
    "    if x<100:\n",
    "        print(\"Less than 100\")\n",
    "print(\"All done\")"
   ]
  },
  {
   "cell_type": "code",
   "execution_count": 9,
   "metadata": {},
   "outputs": [
    {
     "name": "stdout",
     "output_type": "stream",
     "text": [
      "Bigger\n",
      "All done\n"
     ]
    }
   ],
   "source": [
    "x=4\n",
    "if x>2:\n",
    "    print(\"Bigger\")\n",
    "else:\n",
    "    print(\"Not bigger\")\n",
    "print(\"All done\")"
   ]
  },
  {
   "cell_type": "code",
   "execution_count": 10,
   "metadata": {},
   "outputs": [
    {
     "name": "stdout",
     "output_type": "stream",
     "text": [
      "First -1\n"
     ]
    }
   ],
   "source": [
    "astr=\"Hello\"\n",
    "try:\n",
    "\tistr=int(astr)\n",
    "except ValueError:\n",
    "\tistr=-1\n",
    "print(\"First\",istr)"
   ]
  },
  {
   "cell_type": "code",
   "execution_count": 11,
   "metadata": {},
   "outputs": [
    {
     "name": "stdout",
     "output_type": "stream",
     "text": [
      "123\n"
     ]
    }
   ],
   "source": [
    "astr=\"123\"\n",
    "istr=int(astr)\n",
    "print(istr)"
   ]
  },
  {
   "cell_type": "code",
   "execution_count": 12,
   "metadata": {},
   "outputs": [
    {
     "name": "stdout",
     "output_type": "stream",
     "text": [
      "First -1\n",
      "123\n",
      "123\n"
     ]
    }
   ],
   "source": [
    "astr=\"Hello\"\n",
    "try:\n",
    "    istr=int(astr)\n",
    "    print(\"First\",istr)\n",
    "except:\n",
    "    istr=-1\n",
    "print(\"First\",istr)\n",
    "\n",
    "astr=\"123\"\n",
    "try:\n",
    "    istr=int(astr)\n",
    "    print(istr)\n",
    "except:\n",
    "    istr=-1\n",
    "print(istr)"
   ]
  },
  {
   "cell_type": "code",
   "execution_count": 13,
   "metadata": {},
   "outputs": [
    {
     "name": "stdout",
     "output_type": "stream",
     "text": [
      "Hello\n",
      "Done -1\n"
     ]
    }
   ],
   "source": [
    "astr=\"BOb\"\n",
    "try:\n",
    "    print(\"Hello\")\n",
    "    istr=int(str)\n",
    "    print('There')\n",
    "except:\n",
    "    istr=-1\n",
    "print(\"Done\",istr)"
   ]
  },
  {
   "cell_type": "code",
   "execution_count": 14,
   "metadata": {},
   "outputs": [
    {
     "name": "stdout",
     "output_type": "stream",
     "text": [
      "24\n"
     ]
    }
   ],
   "source": [
    "def multiplication(a,b):\n",
    "    return a*b\n",
    "\n",
    "a=4\n",
    "b=6\n",
    "print(multiplication(a,b))"
   ]
  },
  {
   "cell_type": "code",
   "execution_count": 15,
   "metadata": {},
   "outputs": [
    {
     "name": "stdout",
     "output_type": "stream",
     "text": [
      "w\n",
      "H\n"
     ]
    }
   ],
   "source": [
    "big=max(\"Hello world\")\n",
    "small=min(\"Helloworld\")\n",
    "print(big)\n",
    "print(small)\n",
    "#Min character is considered space"
   ]
  },
  {
   "cell_type": "code",
   "execution_count": 16,
   "metadata": {},
   "outputs": [
    {
     "name": "stdout",
     "output_type": "stream",
     "text": [
      "3\n",
      "3\n",
      "3\n",
      "3\n",
      "3\n",
      "3\n"
     ]
    }
   ],
   "source": [
    "smallest=None\n",
    "for value in [3,41,12,9,74,15]:\n",
    "    if smallest is None:\n",
    "        smallest=value\n",
    "    elif value<smallest:\n",
    "        smallest=value\n",
    "    print(smallest)\n"
   ]
  },
  {
   "cell_type": "code",
   "execution_count": 17,
   "metadata": {},
   "outputs": [
    {
     "name": "stdout",
     "output_type": "stream",
     "text": [
      "0 3\n",
      "0 41\n",
      "0 12\n",
      "0 9\n",
      "0 74\n",
      "0 15\n"
     ]
    },
    {
     "name": "stderr",
     "output_type": "stream",
     "text": [
      "<>:3: SyntaxWarning: \"is not\" with a literal. Did you mean \"!=\"?\n",
      "<>:3: SyntaxWarning: \"is not\" with a literal. Did you mean \"!=\"?\n",
      "C:\\Users\\aksha\\AppData\\Local\\Temp\\ipykernel_17412\\2478022137.py:3: SyntaxWarning: \"is not\" with a literal. Did you mean \"!=\"?\n",
      "  if smallest is not 0:\n"
     ]
    }
   ],
   "source": [
    "smallest=0\n",
    "for value in [3,41,12,9,74,15]:\n",
    "    if smallest is not 0:\n",
    "        smallest=value\n",
    "    elif value<smallest:\n",
    "        smallest=value\n",
    "    print(smallest, value)"
   ]
  },
  {
   "cell_type": "code",
   "execution_count": 18,
   "metadata": {},
   "outputs": [
    {
     "name": "stdout",
     "output_type": "stream",
     "text": [
      "12.0\n"
     ]
    }
   ],
   "source": [
    "hours=int(input(\"Enter the hours:\"))\n",
    "rate=float(input(\"Enetr the rate:\"))\n",
    "print(hours*rate)"
   ]
  },
  {
   "cell_type": "code",
   "execution_count": null,
   "metadata": {},
   "outputs": [],
   "source": []
  }
 ],
 "metadata": {
  "kernelspec": {
   "display_name": "Python 3",
   "language": "python",
   "name": "python3"
  },
  "language_info": {
   "codemirror_mode": {
    "name": "ipython",
    "version": 3
   },
   "file_extension": ".py",
   "mimetype": "text/x-python",
   "name": "python",
   "nbconvert_exporter": "python",
   "pygments_lexer": "ipython3",
   "version": "3.11.0"
  }
 },
 "nbformat": 4,
 "nbformat_minor": 2
}
