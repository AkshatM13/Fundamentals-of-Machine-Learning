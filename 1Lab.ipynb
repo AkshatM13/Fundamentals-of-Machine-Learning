{
 "cells": [
  {
   "cell_type": "markdown",
   "metadata": {
    "id": "UlacIQiqChtv"
   },
   "source": [
    "what are all the programming languages and tool available for machine learning and data sceince and their pro's and con's why we need to python programming for Data Science applications and for Machine Learning applic who it is provide the support"
   ]
  },
  {
   "cell_type": "markdown",
   "metadata": {
    "id": "obWrZiGWO-Bs"
   },
   "source": [
    "There are few programming lanaguge that we can use to implement Machine Learning and Data Science they are:\n",
    "Python : It is a high level language and user friendly langauge\n",
    "pro's and con's of using this programming langauge for implementing ML and DS are\n",
    "pro's\n",
    "1.   Easy to Learn the language where in coding part is simple and understandable for new learners\n",
    "2.   Availablity of libraries such as TensorFlow, NumPy, Pandas, PyTorch,      Scikit-learn which make the easy use of data related task.\n",
    "3.   It has a large active commuinty support, where we can get help from diiferent people and solve problems.\\\n",
    "con's\n",
    "1. slow when compared to other languages in terms of execution due to the interpreted environment.\n",
    "\n",
    "R programming language : it is very much desined to work on the data visualization and analysis.\n",
    "\n",
    "pro's\n",
    "1. statistical analysis : libraries like ggplot dplyr help in statistical modelling.\n",
    "2. Visualization: helps creating detailed and informative visualizations.\n",
    "\n",
    "con's\n",
    "1. Performance: it is less efficient with large datasets or complex computations when compared to other languages.\n",
    "2. Limitations:  used mainly for statistical analysis and data visualization can not perfrom general tasks efficently when compared to other languages.\n",
    "\n",
    "Julia : A high performance language for numerical and scientific computing\n",
    "\n",
    "pro's\n",
    "1. Performance: Compiles the code to bytecode, which runs on the Java Virtual Machine\n",
    "2. Robust Ecosystem: Rich set of libraries and frameworks for building complex applications\n",
    "Con's\n",
    "1. Ecosystem: Smaller library ecosystem compared to Python and R, which may limit the availability of certain tools and functionalities.\n",
    "\n",
    "C++: A high-performance, object-oriented language\n",
    "\n",
    "Pros\n",
    "1.  Performance: Provides the highest level of control over system resources, leading to superior performance and efficiency\n",
    "2.  Fine-Grained Control: Allows for manual memory management and optimization, which can be critical for high-performance applications.\n",
    "Con's\n",
    "1. Complexity: Has a complex syntax and requires careful memory management,\n",
    "\n",
    "\n",
    "\n"
   ]
  },
  {
   "cell_type": "markdown",
   "metadata": {
    "id": "d49hwIdbDcIY"
   },
   "source": [
    "interpret vs complier"
   ]
  },
  {
   "cell_type": "markdown",
   "metadata": {
    "id": "M9kouo5EYm3X"
   },
   "source": [
    "complier\n",
    "converts source code into machine code or bytecode before execution.\n",
    "creates a executable file after coversion after that the file is executed.\n",
    "time is taken to compile the source code before execution.\n",
    "fast execution time because conversion is done beforehand\n",
    "Errors are detected at compilation time.\n",
    "errors must be resolved before the code runs\n",
    "C, C++\n",
    "Interpreter\n",
    "converts source code into machine code or bytecode line-by-line during execution.\n",
    "Executes source code directly, coverting it into machine code on-the-fly during runtime.\n",
    "executes code immediately after reading it.\n",
    "slow execution time because conversion happens at runtime\n",
    "Errors are detected at runtime\n",
    "errors are reported during execution\n",
    "Python, JavaScript"
   ]
  },
  {
   "cell_type": "code",
   "execution_count": null,
   "metadata": {
    "colab": {
     "base_uri": "https://localhost:8080/"
    },
    "executionInfo": {
     "elapsed": 579,
     "status": "ok",
     "timestamp": 1722316589165,
     "user": {
      "displayName": "Nikhil S G",
      "userId": "11597562071480903754"
     },
     "user_tz": -330
    },
    "id": "gOJOiFG6EThz",
    "outputId": "036e94e7-f3d9-4d1a-f236-604014919d36"
   },
   "outputs": [
    {
     "name": "stdout",
     "output_type": "stream",
     "text": [
      "Hello World\n"
     ]
    }
   ],
   "source": [
    "print(\"Hello World\")"
   ]
  },
  {
   "cell_type": "code",
   "execution_count": null,
   "metadata": {
    "colab": {
     "base_uri": "https://localhost:8080/"
    },
    "executionInfo": {
     "elapsed": 685,
     "status": "ok",
     "timestamp": 1722316795694,
     "user": {
      "displayName": "Nikhil S G",
      "userId": "11597562071480903754"
     },
     "user_tz": -330
    },
    "id": "8SZxSLLcFD9Z",
    "outputId": "2702f193-025b-4d95-d61b-95624be467bd"
   },
   "outputs": [
    {
     "name": "stdout",
     "output_type": "stream",
     "text": [
      "2\n",
      "4\n"
     ]
    }
   ],
   "source": [
    "x = 2\n",
    "print(x)\n",
    "x += 2\n",
    "print(x)"
   ]
  },
  {
   "cell_type": "code",
   "execution_count": null,
   "metadata": {
    "colab": {
     "base_uri": "https://localhost:8080/"
    },
    "executionInfo": {
     "elapsed": 586,
     "status": "ok",
     "timestamp": 1722316972370,
     "user": {
      "displayName": "Nikhil S G",
      "userId": "11597562071480903754"
     },
     "user_tz": -330
    },
    "id": "PavNFEYFFl5A",
    "outputId": "00d38e1e-fcc6-456e-b81a-ef84d16c386b"
   },
   "outputs": [
    {
     "name": "stdout",
     "output_type": "stream",
     "text": [
      "Smaller\n",
      "Finish\n"
     ]
    }
   ],
   "source": [
    "x  = 5\n",
    "if x < 10 :\n",
    "  print(\"Smaller\")\n",
    "if x > 20 :\n",
    "  print(\"Bigger\")\n",
    "print(\"Finish\")"
   ]
  },
  {
   "cell_type": "code",
   "execution_count": null,
   "metadata": {
    "colab": {
     "base_uri": "https://localhost:8080/"
    },
    "executionInfo": {
     "elapsed": 530,
     "status": "ok",
     "timestamp": 1722317118590,
     "user": {
      "displayName": "Nikhil S G",
      "userId": "11597562071480903754"
     },
     "user_tz": -330
    },
    "id": "R3U5wyfwGAtp",
    "outputId": "e61b3640-7c87-46b5-d974-e40b9f9bbd08"
   },
   "outputs": [
    {
     "name": "stdout",
     "output_type": "stream",
     "text": [
      "5\n",
      "4\n",
      "3\n",
      "2\n",
      "1\n",
      "Blastoff!\n"
     ]
    }
   ],
   "source": [
    "n = 5\n",
    "while n > 0:\n",
    "  print(n)\n",
    "  n -= 1\n",
    "print(\"Blastoff!\")"
   ]
  },
  {
   "cell_type": "code",
   "execution_count": null,
   "metadata": {
    "colab": {
     "base_uri": "https://localhost:8080/"
    },
    "executionInfo": {
     "elapsed": 648,
     "status": "ok",
     "timestamp": 1722317638393,
     "user": {
      "displayName": "Nikhil S G",
      "userId": "11597562071480903754"
     },
     "user_tz": -330
    },
    "id": "zXLbw8CyH6F6",
    "outputId": "4b0571c4-a799-46ff-9cd3-d8abc3f16307"
   },
   "outputs": [
    {
     "name": "stdout",
     "output_type": "stream",
     "text": [
      "437.5\n"
     ]
    }
   ],
   "source": [
    "x1q3z90cd = 35.0\n",
    "x1q3z9afd = 12.50\n",
    "x1q3p9afd = x1q3z90cd * x1q3z9afd\n",
    "print(x1q3p9afd)"
   ]
  },
  {
   "cell_type": "markdown",
   "metadata": {
    "id": "wSUa_l4_Ie2p"
   },
   "source": [
    "Mnemoincs way of writing code makes the code more understandable to the viewers"
   ]
  },
  {
   "cell_type": "code",
   "execution_count": null,
   "metadata": {
    "colab": {
     "base_uri": "https://localhost:8080/"
    },
    "executionInfo": {
     "elapsed": 585,
     "status": "ok",
     "timestamp": 1722317751132,
     "user": {
      "displayName": "Nikhil S G",
      "userId": "11597562071480903754"
     },
     "user_tz": -330
    },
    "id": "_6sxIYiRIpSW",
    "outputId": "7258d87d-5699-4a1d-bdac-abb0a8a5d1ea"
   },
   "outputs": [
    {
     "name": "stdout",
     "output_type": "stream",
     "text": [
      "437.5\n"
     ]
    }
   ],
   "source": [
    "Hours = 35.0\n",
    "Rate = 12.50\n",
    "Pay = Hours * Rate\n",
    "print(Pay)"
   ]
  },
  {
   "cell_type": "code",
   "execution_count": null,
   "metadata": {
    "colab": {
     "base_uri": "https://localhost:8080/"
    },
    "executionInfo": {
     "elapsed": 561,
     "status": "ok",
     "timestamp": 1722317962170,
     "user": {
      "displayName": "Nikhil S G",
      "userId": "11597562071480903754"
     },
     "user_tz": -330
    },
    "id": "WANa6Z7dJhgC",
    "outputId": "62e0ec5e-b9c4-48d8-8efa-8d03689cd35a"
   },
   "outputs": [
    {
     "name": "stdout",
     "output_type": "stream",
     "text": [
      "5\n"
     ]
    }
   ],
   "source": [
    "ddd = 1 + 4\n",
    "print(ddd)"
   ]
  },
  {
   "cell_type": "code",
   "execution_count": null,
   "metadata": {
    "colab": {
     "base_uri": "https://localhost:8080/"
    },
    "executionInfo": {
     "elapsed": 544,
     "status": "ok",
     "timestamp": 1722318063988,
     "user": {
      "displayName": "Nikhil S G",
      "userId": "11597562071480903754"
     },
     "user_tz": -330
    },
    "id": "eNiZDP4gJ-2E",
    "outputId": "6ec68803-dd6c-4b7e-c706-3ca57cd56167"
   },
   "outputs": [
    {
     "name": "stdout",
     "output_type": "stream",
     "text": [
      "Hello There\n"
     ]
    }
   ],
   "source": [
    "eee = 'Hello ' + 'There'\n",
    "print(eee)"
   ]
  },
  {
   "cell_type": "code",
   "execution_count": 2,
   "metadata": {
    "colab": {
     "base_uri": "https://localhost:8080/",
     "height": 176
    },
    "executionInfo": {
     "elapsed": 552,
     "status": "error",
     "timestamp": 1722318035110,
     "user": {
      "displayName": "Nikhil S G",
      "userId": "11597562071480903754"
     },
     "user_tz": -330
    },
    "id": "4ldpJsY7JmGS",
    "outputId": "55737896-cdcf-4468-9e64-7e71323a8b98"
   },
   "outputs": [
    {
     "name": "stdout",
     "output_type": "stream",
     "text": [
      "Hello There1\n"
     ]
    }
   ],
   "source": [
    "eee = 'Hello ' + 'There'\n",
    "eee = eee + '1'\n",
    "print(eee)"
   ]
  },
  {
   "cell_type": "code",
   "execution_count": null,
   "metadata": {
    "colab": {
     "base_uri": "https://localhost:8080/"
    },
    "executionInfo": {
     "elapsed": 565,
     "status": "ok",
     "timestamp": 1722318082508,
     "user": {
      "displayName": "Nikhil S G",
      "userId": "11597562071480903754"
     },
     "user_tz": -330
    },
    "id": "2M4aOgNcKB8T",
    "outputId": "935cc7ba-3141-476a-db94-0c8c77f3e56c"
   },
   "outputs": [
    {
     "data": {
      "text/plain": [
       "str"
      ]
     },
     "execution_count": 13,
     "metadata": {},
     "output_type": "execute_result"
    }
   ],
   "source": [
    "type(eee)"
   ]
  },
  {
   "cell_type": "code",
   "execution_count": null,
   "metadata": {
    "colab": {
     "base_uri": "https://localhost:8080/"
    },
    "executionInfo": {
     "elapsed": 566,
     "status": "ok",
     "timestamp": 1722318104376,
     "user": {
      "displayName": "Nikhil S G",
      "userId": "11597562071480903754"
     },
     "user_tz": -330
    },
    "id": "6H43-VMzKHWb",
    "outputId": "52bc19ae-e8e9-4b7d-ebba-446ecd71d54c"
   },
   "outputs": [
    {
     "data": {
      "text/plain": [
       "int"
      ]
     },
     "execution_count": 14,
     "metadata": {},
     "output_type": "execute_result"
    }
   ],
   "source": [
    "type(1)"
   ]
  },
  {
   "cell_type": "code",
   "execution_count": null,
   "metadata": {
    "colab": {
     "base_uri": "https://localhost:8080/"
    },
    "executionInfo": {
     "elapsed": 575,
     "status": "ok",
     "timestamp": 1722318213880,
     "user": {
      "displayName": "Nikhil S G",
      "userId": "11597562071480903754"
     },
     "user_tz": -330
    },
    "id": "0LdiXCq5KR1C",
    "outputId": "d7627027-640d-4deb-aeea-54cd7cc5eb65"
   },
   "outputs": [
    {
     "data": {
      "text/plain": [
       "int"
      ]
     },
     "execution_count": 16,
     "metadata": {},
     "output_type": "execute_result"
    }
   ],
   "source": [
    "x = 1\n",
    "type(x)"
   ]
  },
  {
   "cell_type": "code",
   "execution_count": null,
   "metadata": {
    "colab": {
     "base_uri": "https://localhost:8080/"
    },
    "executionInfo": {
     "elapsed": 549,
     "status": "ok",
     "timestamp": 1722318224689,
     "user": {
      "displayName": "Nikhil S G",
      "userId": "11597562071480903754"
     },
     "user_tz": -330
    },
    "id": "iuncoE9BKhly",
    "outputId": "105c5fbc-2c5d-45d8-85e7-3a5da81bb028"
   },
   "outputs": [
    {
     "data": {
      "text/plain": [
       "float"
      ]
     },
     "execution_count": 17,
     "metadata": {},
     "output_type": "execute_result"
    }
   ],
   "source": [
    "temp = 98.6\n",
    "type(temp)"
   ]
  },
  {
   "cell_type": "code",
   "execution_count": null,
   "metadata": {
    "colab": {
     "base_uri": "https://localhost:8080/"
    },
    "executionInfo": {
     "elapsed": 579,
     "status": "ok",
     "timestamp": 1722318258855,
     "user": {
      "displayName": "Nikhil S G",
      "userId": "11597562071480903754"
     },
     "user_tz": -330
    },
    "id": "WJZzOq6XKoQi",
    "outputId": "018d9f21-f577-41de-e981-bda0c792c7ac"
   },
   "outputs": [
    {
     "data": {
      "text/plain": [
       "float"
      ]
     },
     "execution_count": 18,
     "metadata": {},
     "output_type": "execute_result"
    }
   ],
   "source": [
    "type(1.0)"
   ]
  },
  {
   "cell_type": "code",
   "execution_count": null,
   "metadata": {
    "colab": {
     "base_uri": "https://localhost:8080/"
    },
    "executionInfo": {
     "elapsed": 3,
     "status": "ok",
     "timestamp": 1722318259386,
     "user": {
      "displayName": "Nikhil S G",
      "userId": "11597562071480903754"
     },
     "user_tz": -330
    },
    "id": "tIwVEQW0Kuya",
    "outputId": "544677ee-8b39-45be-8edf-2eeafb8e6f8c"
   },
   "outputs": [
    {
     "data": {
      "text/plain": [
       "str"
      ]
     },
     "execution_count": 19,
     "metadata": {},
     "output_type": "execute_result"
    }
   ],
   "source": [
    "type('Hello')"
   ]
  },
  {
   "cell_type": "code",
   "execution_count": null,
   "metadata": {
    "colab": {
     "base_uri": "https://localhost:8080/"
    },
    "executionInfo": {
     "elapsed": 674,
     "status": "ok",
     "timestamp": 1722318276065,
     "user": {
      "displayName": "Nikhil S G",
      "userId": "11597562071480903754"
     },
     "user_tz": -330
    },
    "id": "RmZsCkJkKwjq",
    "outputId": "a7fe10ff-0d0b-4438-85b7-669c0a1f7066"
   },
   "outputs": [
    {
     "name": "stdout",
     "output_type": "stream",
     "text": [
      "199.0\n"
     ]
    }
   ],
   "source": [
    "print(float(99)+100)"
   ]
  },
  {
   "cell_type": "code",
   "execution_count": null,
   "metadata": {
    "colab": {
     "base_uri": "https://localhost:8080/"
    },
    "executionInfo": {
     "elapsed": 583,
     "status": "ok",
     "timestamp": 1722318358866,
     "user": {
      "displayName": "Nikhil S G",
      "userId": "11597562071480903754"
     },
     "user_tz": -330
    },
    "id": "csB2qLsvK0nU",
    "outputId": "2c4536f1-d8ab-418f-f667-fc4e83968089"
   },
   "outputs": [
    {
     "data": {
      "text/plain": [
       "str"
      ]
     },
     "execution_count": 22,
     "metadata": {},
     "output_type": "execute_result"
    }
   ],
   "source": [
    "sal = '123'\n",
    "type(sal)"
   ]
  },
  {
   "cell_type": "code",
   "execution_count": null,
   "metadata": {
    "colab": {
     "base_uri": "https://localhost:8080/"
    },
    "executionInfo": {
     "elapsed": 731,
     "status": "ok",
     "timestamp": 1722318438246,
     "user": {
      "displayName": "Nikhil S G",
      "userId": "11597562071480903754"
     },
     "user_tz": -330
    },
    "id": "izPe2D6bLXAz",
    "outputId": "eb507a12-2b23-498d-e8fe-22a9a1e84fd7"
   },
   "outputs": [
    {
     "data": {
      "text/plain": [
       "int"
      ]
     },
     "execution_count": 24,
     "metadata": {},
     "output_type": "execute_result"
    }
   ],
   "source": [
    "ival = int(sal)\n",
    "type(ival)"
   ]
  },
  {
   "cell_type": "code",
   "execution_count": null,
   "metadata": {
    "colab": {
     "base_uri": "https://localhost:8080/"
    },
    "executionInfo": {
     "elapsed": 546,
     "status": "ok",
     "timestamp": 1722318463913,
     "user": {
      "displayName": "Nikhil S G",
      "userId": "11597562071480903754"
     },
     "user_tz": -330
    },
    "id": "ioaRbgAbLbz6",
    "outputId": "52957060-07b2-4993-a596-f1f930e43e60"
   },
   "outputs": [
    {
     "name": "stdout",
     "output_type": "stream",
     "text": [
      "124\n"
     ]
    }
   ],
   "source": [
    "print(ival+1)"
   ]
  }
 ],
 "metadata": {
  "colab": {
   "authorship_tag": "ABX9TyNSuW0H1BLuIuE3tcTv4rRa",
   "provenance": []
  },
  "kernelspec": {
   "display_name": "Python 3",
   "name": "python3"
  },
  "language_info": {
   "codemirror_mode": {
    "name": "ipython",
    "version": 3
   },
   "file_extension": ".py",
   "mimetype": "text/x-python",
   "name": "python",
   "nbconvert_exporter": "python",
   "pygments_lexer": "ipython3",
   "version": "3.11.0"
  }
 },
 "nbformat": 4,
 "nbformat_minor": 0
}
