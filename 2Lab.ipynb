{
 "cells": [
  {
   "cell_type": "markdown",
   "metadata": {
    "id": "i6aipxw2ThTm"
   },
   "source": [
    "User Input\n",
    "1. Write a Python program to prompt the user for their name and print a greeting message.\n",
    "2. Ask the user to enter two numbers and print their sum.\n",
    "3. Write a program that asks the user to enter their age and then prints how old they will be in 5 years.\n",
    "4. Prompt the user for a sentence and count the number of words in the sentence.\n",
    "5. Create a program that asks for the user's birth year and calculates their age.\n",
    "6. Write a program that asks the user to enter three different numbers and prints the largest one.\n",
    "7. Ask the user for their height in centimeters and convert it to meters.\n",
    "8. Create a program that asks for the user's favorite color and prints a message based on the input (e.g., \"Blue is a calming color\").\n",
    "9. Prompt the user to enter a list of numbers separated by commas and calculate the average of those numbers.\n",
    "10. Write a program that asks the user for their first and last name separately and then prints their full name in reverse order (last name, first name)."
   ]
  },
  {
   "cell_type": "code",
   "execution_count": null,
   "metadata": {
    "id": "02smJs4CXVzL"
   },
   "outputs": [],
   "source": []
  },
  {
   "cell_type": "markdown",
   "metadata": {
    "id": "S8eJQ3dlW_sI"
   },
   "source": [
    "Convert User Input\n",
    "1. Ask the user to enter a number and convert it to an integer.\n",
    "2.Prompt the user for a floating-point number and convert it to an integer.\n",
    "3. Write a program that asks for a string input and converts it to uppercase.\n",
    "4. propmt the user to enter a number and print its binary representation.\n",
    "5. Create a program that takes a user input as a string and converts it to a list of characters.\n",
    "6. Ask the user to enter a number and convert it to a float.\n",
    "7. Write a program that takes a user input and converts it to a boolean.\n",
    "8. Prompt the user to enter two numbers and convert them to complex numbers.\n",
    "9. Create a program that converts a user-entered string representing a date (e.g., \"2024-08-01\") to a datetime object.\n",
    "10. Write a program that asks the user for a hexadecimal string and converts it to an integer."
   ]
  },
  {
   "cell_type": "code",
   "execution_count": null,
   "metadata": {
    "id": "-RsDfsDZXWz7"
   },
   "outputs": [],
   "source": []
  },
  {
   "cell_type": "markdown",
   "metadata": {
    "id": "X35m9hmUXBli"
   },
   "source": [
    "Comparison Operators\n",
    "1. program that asks the user for two numbers and checks if they are equal.\n",
    "2. program to compare two user-entered numbers and print the  greater.\n",
    "3. Ask the user for their age and check if they are old enough to vote (18 or older).\n",
    "4. Write a program that checks if a user-entered number is positive, negative, or zero.\n",
    "5. Create a program that asks the user for two words and checks if they are the same (case-insensitive).\n",
    "6. Write a program that checks if a user-entered year is a leap year.\n",
    "7. Ask the user for a number and check if it is divisible by both 3 and 5.\n",
    "8. Create a program that checks if a user-entered string contains the word \"Python\".\n",
    "9. Write a program that compares the lengths of two user-entered strings and prints which one is longer.\n",
    "10. Ask the user for three numbers and check if they can form a triangle (sum of any two sides must be greater than the third side)."
   ]
  },
  {
   "cell_type": "code",
   "execution_count": null,
   "metadata": {
    "id": "zwDYHEs9XXdb"
   },
   "outputs": [],
   "source": []
  },
  {
   "cell_type": "markdown",
   "metadata": {
    "id": "0ZqstzRnXER4"
   },
   "source": [
    "Exception Handling\n",
    "1. Write a program that asks the user to enter a number and catches the ValueError if the input is not a number.\n",
    "2. Create a program that asks for two numbers and catches the ZeroDivisionError if the second number is zero.\n",
    "3. Write a program that prompts the user for a filename and handles the FileNotFoundError if the file does not exist.\n",
    "4. Ask the user to enter a number and handle both ValueError and TypeError exceptions.\n",
    "5. Create a program that tries to read a file and catches any IOError that may occur.\n",
    "6. Write a program that asks the user for a list of numbers separated by spaces and handles the ValueError if any input is not a number.\n",
    "7. Ask the user for a dictionary key and handle the KeyError if the key is not found in a predefined dictionary.\n",
    "8. Create a program that catches the IndexError if the user tries to access an invalid index in a list.\n",
    "8. Write a program that attempts to convert a user-entered string to an integer and catches the ValueError.\n",
    "9. Ask the user for an integer and handle the OverflowError if the number is too large.\n"
   ]
  },
  {
   "cell_type": "code",
   "execution_count": null,
   "metadata": {
    "id": "lEGIGbCpXYtD"
   },
   "outputs": [],
   "source": []
  },
  {
   "cell_type": "markdown",
   "metadata": {
    "id": "tZHjk1yJXHiz"
   },
   "source": [
    "Try-Except Structure\n",
    "1. Write a program that prompts the user for a number and uses try-except to handle invalid input.\n",
    "2. Create a program that asks the user for two numbers and uses try-except to handle division by zero.\n",
    "3. Write a program that tries to open a file and prints a custom error message if the file does not exist.\n",
    "4. Ask the user for a list of numbers and use try-except to handle non-numeric input.\n",
    "5. Create a program that uses try-except to handle multiple exceptions (ValueError, ZeroDivisionError).\n",
    "6. Write a program that asks the user for a filename and uses try-except to handle file-related errors.\n",
    "7. Ask the user for a number and use try-except-finally to ensure that a message is printed whether an exception occurs or not.\n",
    "8. Create a program that uses nested try-except blocks to handle different types of exceptions.\n",
    "9. Write a program that tries to convert a user-entered string to different data types (int, float, complex) and handles exceptions for each conversion.\n",
    "10. Ask the user for a number and use try-except to handle both ValueError and custom exceptions."
   ]
  },
  {
   "cell_type": "code",
   "execution_count": null,
   "metadata": {
    "id": "rLA30y0aXZdD"
   },
   "outputs": [],
   "source": []
  },
  {
   "cell_type": "markdown",
   "metadata": {
    "id": "EPUwJAfEXLxq"
   },
   "source": [
    "Functions\n",
    "1. Write a function that takes a name as input and prints a greeting message.\n",
    "2. Create a function that takes two numbers as arguments and returns their sum.\n",
    "3. Write a function that checks if a number is even or odd.\n",
    "4. Create a function that takes a string and returns its length.\n",
    "5. Write a function that takes a list of numbers and returns the maximum number.\n",
    "6. Create a function that calculates the factorial of a number.\n",
    "7. Write a function that takes a string and returns it in reverse.\n",
    "8. Create a function that takes a list of numbers and returns a new list with only the even numbers.\n",
    "9. Write a function that checks if a given string is a palindrome.\n",
    "10. Create a function that takes a list of numbers and returns the average of the numbers."
   ]
  },
  {
   "cell_type": "code",
   "execution_count": null,
   "metadata": {
    "id": "v4TSKuP_Xa2j"
   },
   "outputs": [],
   "source": []
  },
  {
   "cell_type": "markdown",
   "metadata": {
    "id": "Gw5ec7KeXObu"
   },
   "source": [
    "Loops and Iterations\n",
    "1. Write a program that prints the numbers from 1 to 10 using a for loop.\n",
    "2. Create a program that prints the even numbers between 1 and 20 using a while loop.\n",
    "3. Write a program that asks the user for a number and prints its multiplication table using a for loop.\n",
    "4. Create a program that calculates the sum of all numbers in a user-entered list using a for loop.\n",
    "5. Write a program that prints the first 10 Fibonacci numbers using a while loop.\n",
    "6. Create a program that asks the user for a string and prints each character using a for loop.\n",
    "7. Write a program that asks the user for a list of numbers and prints only the positive numbers using a for loop.\n",
    "8. Create a program that uses a nested loop to print a multiplication table from 1 to 5.\n",
    "9. Write a program that asks the user for a number and prints all its divisors using a for loop.\n",
    "10. Create a program that asks the user for a list of words and prints each word in reverse using a for loop."
   ]
  },
  {
   "cell_type": "markdown",
   "metadata": {
    "id": "TxsKGyrwFigH"
   },
   "source": [
    "**User Input**"
   ]
  },
  {
   "cell_type": "markdown",
   "metadata": {
    "id": "qsXV4kHeFkSX"
   },
   "source": [
    "1) Write a Python program to prompt the user for their name and print a greeting message."
   ]
  },
  {
   "cell_type": "code",
   "execution_count": 1,
   "metadata": {
    "colab": {
     "base_uri": "https://localhost:8080/"
    },
    "executionInfo": {
     "elapsed": 14989,
     "status": "ok",
     "timestamp": 1722921417392,
     "user": {
      "displayName": "Nikhil S G",
      "userId": "11597562071480903754"
     },
     "user_tz": -330
    },
    "id": "yjtFJd89TbB6",
    "outputId": "b4ce7abc-660c-4da9-82d3-aece63b97ea6"
   },
   "outputs": [
    {
     "name": "stdout",
     "output_type": "stream",
     "text": [
      "Hello, akshat Welcome to ML Lab \n"
     ]
    }
   ],
   "source": [
    "username = input(\"Enter username: \")\n",
    "print(\"Hello,\",username,\"Welcome to ML Lab \")"
   ]
  },
  {
   "cell_type": "markdown",
   "metadata": {
    "id": "MbtLiXCPGKxg"
   },
   "source": [
    "2) Ask the user to enter two numbers and print their sum."
   ]
  },
  {
   "cell_type": "code",
   "execution_count": null,
   "metadata": {
    "colab": {
     "base_uri": "https://localhost:8080/"
    },
    "executionInfo": {
     "elapsed": 6012,
     "status": "ok",
     "timestamp": 1722921368589,
     "user": {
      "displayName": "Nikhil S G",
      "userId": "11597562071480903754"
     },
     "user_tz": -330
    },
    "id": "csbUp4vgW8BU",
    "outputId": "4b1d5eb8-447e-46e8-f134-646d0e735d73"
   },
   "outputs": [
    {
     "name": "stdout",
     "output_type": "stream",
     "text": [
      "Enter First Number: 1\n",
      "Enter Second Number: 2\n",
      "The Sum of two Numbers is:  3\n"
     ]
    }
   ],
   "source": [
    "Num1 = int(input(\"Enter First Number: \"))\n",
    "Num2 = int(input(\"Enter Second Number: \"))\n",
    "Sum = Num1 + Num2\n",
    "print(\"The Sum of two Numbers is: \", Sum)"
   ]
  },
  {
   "cell_type": "markdown",
   "metadata": {
    "id": "7GNCHH6UHv0B"
   },
   "source": [
    "3) Write a program that asks the user to enter their age and then prints how old they will be in 5 years.\n"
   ]
  },
  {
   "cell_type": "code",
   "execution_count": null,
   "metadata": {
    "colab": {
     "base_uri": "https://localhost:8080/"
    },
    "executionInfo": {
     "elapsed": 3892,
     "status": "ok",
     "timestamp": 1722921653623,
     "user": {
      "displayName": "Nikhil S G",
      "userId": "11597562071480903754"
     },
     "user_tz": -330
    },
    "id": "7o2tcpT_Hx2h",
    "outputId": "317f2375-37a1-4392-867d-2bbe79d83587"
   },
   "outputs": [
    {
     "name": "stdout",
     "output_type": "stream",
     "text": [
      "Enter your age: 22\n",
      "You will be 27 in next 5 years\n"
     ]
    }
   ],
   "source": [
    "age = int(input(\"Enter your age: \"))\n",
    "print(\"You will be\",age+5,\"in next 5 years\")"
   ]
  },
  {
   "cell_type": "markdown",
   "metadata": {
    "id": "byeypzoyHyKg"
   },
   "source": [
    "4) Prompt the user for a sentence and count the number of words in the sentence.\n"
   ]
  },
  {
   "cell_type": "code",
   "execution_count": null,
   "metadata": {
    "colab": {
     "base_uri": "https://localhost:8080/"
    },
    "executionInfo": {
     "elapsed": 17750,
     "status": "ok",
     "timestamp": 1722921987544,
     "user": {
      "displayName": "Nikhil S G",
      "userId": "11597562071480903754"
     },
     "user_tz": -330
    },
    "id": "vhmy86XKH1D4",
    "outputId": "3060e97a-d6ed-42a2-fc35-7335da9aa38e"
   },
   "outputs": [
    {
     "name": "stdout",
     "output_type": "stream",
     "text": [
      "Enter the sentence: Welcome MSIS BDA ML Lab\n",
      "The number of words in the sentence is:  5\n"
     ]
    }
   ],
   "source": [
    "sentence  = input(\"Enter the sentence: \")\n",
    "words = sentence.split()\n",
    "print(\"The number of words in the sentence is: \",len(words))"
   ]
  },
  {
   "cell_type": "markdown",
   "metadata": {
    "id": "oFqyvVu7H1Q4"
   },
   "source": [
    "Create a program that asks for the user's birth year and calculates their age.\n"
   ]
  },
  {
   "cell_type": "code",
   "execution_count": null,
   "metadata": {
    "colab": {
     "base_uri": "https://localhost:8080/"
    },
    "executionInfo": {
     "elapsed": 7670,
     "status": "ok",
     "timestamp": 1722922042301,
     "user": {
      "displayName": "Nikhil S G",
      "userId": "11597562071480903754"
     },
     "user_tz": -330
    },
    "id": "GELru0zPH2Gv",
    "outputId": "1f78b682-5cfa-4e8d-f73e-3e2cf434c385"
   },
   "outputs": [
    {
     "name": "stdout",
     "output_type": "stream",
     "text": [
      "Enter your birth year: 2002\n",
      "Your age is:  22\n"
     ]
    }
   ],
   "source": [
    "birth_year = int(input(\"Enter your birth year: \"))\n",
    "age = 2024 - birth_year\n",
    "print(\"Your age is: \",age)"
   ]
  },
  {
   "cell_type": "markdown",
   "metadata": {
    "id": "bZGFK_V3H2Zw"
   },
   "source": [
    "Write a program that asks the user to enter three different numbers and prints the largest one.\n"
   ]
  },
  {
   "cell_type": "code",
   "execution_count": null,
   "metadata": {
    "colab": {
     "base_uri": "https://localhost:8080/"
    },
    "executionInfo": {
     "elapsed": 10197,
     "status": "ok",
     "timestamp": 1722922252675,
     "user": {
      "displayName": "Nikhil S G",
      "userId": "11597562071480903754"
     },
     "user_tz": -330
    },
    "id": "zJ0jRmPJKsLp",
    "outputId": "55be1e23-5864-4e4f-a5cb-34996555b351"
   },
   "outputs": [
    {
     "name": "stdout",
     "output_type": "stream",
     "text": [
      "Enter First Number: 100\n",
      "Enter Second Number: 200\n",
      "Enter Third Number: 300\n",
      "The largest number is:  300\n"
     ]
    }
   ],
   "source": [
    "Num1 = int(input(\"Enter First Number: \"))\n",
    "Num2 = int(input(\"Enter Second Number: \"))\n",
    "Num3 = int(input(\"Enter Third Number: \"))\n",
    "if Num1 > Num2 and Num1 > Num3:\n",
    "  print(\"The largest number is: \",Num1)\n",
    "elif Num2 > Num1 and Num2 > Num3:\n",
    "  print(\"The largest number is: \",Num2)\n",
    "else:\n",
    "  print(\"The largest number is: \",Num3)"
   ]
  },
  {
   "cell_type": "markdown",
   "metadata": {
    "id": "_-54lDDQH7s3"
   },
   "source": [
    "Ask the user for their height in centimeters and convert it to meters.\n"
   ]
  },
  {
   "cell_type": "code",
   "execution_count": null,
   "metadata": {
    "colab": {
     "base_uri": "https://localhost:8080/"
    },
    "executionInfo": {
     "elapsed": 6708,
     "status": "ok",
     "timestamp": 1722922686225,
     "user": {
      "displayName": "Nikhil S G",
      "userId": "11597562071480903754"
     },
     "user_tz": -330
    },
    "id": "3GSE29O2H-2Q",
    "outputId": "66490d3e-ff0c-4c1d-eb5f-a0cc78716a8d"
   },
   "outputs": [
    {
     "name": "stdout",
     "output_type": "stream",
     "text": [
      "Enter your height in centimeters: 176.784 \n",
      "Your height in meters is: 1.77\n"
     ]
    }
   ],
   "source": [
    "Height = float(input(\"Enter your height in centimeters: \"))\n",
    "print(\"Your height in meters is: %.2f\" %(Height/100))"
   ]
  },
  {
   "cell_type": "markdown",
   "metadata": {
    "id": "HC4Us4AcK5tJ"
   },
   "source": [
    "Create a program that asks for the user's favorite color and prints a message based on the input (e.g., \"Blue is a calming color\").\n"
   ]
  },
  {
   "cell_type": "code",
   "execution_count": null,
   "metadata": {
    "colab": {
     "base_uri": "https://localhost:8080/"
    },
    "executionInfo": {
     "elapsed": 8697,
     "status": "ok",
     "timestamp": 1722922888078,
     "user": {
      "displayName": "Nikhil S G",
      "userId": "11597562071480903754"
     },
     "user_tz": -330
    },
    "id": "ooL41lSfK9hR",
    "outputId": "d79eebcb-ade4-49a4-a3d9-939e7dcc0b60"
   },
   "outputs": [
    {
     "name": "stdout",
     "output_type": "stream",
     "text": [
      "Enter your favorite color: Blue\n",
      "Blue is a calming color\n"
     ]
    }
   ],
   "source": [
    "color = input(\"Enter your favorite color: \")\n",
    "print(color,\"is a calming color\")\n",
    "#!pip install termcolor\n",
    "#from termcolor import colored\n",
    "#text = \"Hello, world!\"\n",
    "#color = \"green\"\n",
    "#print(colored(text, color))"
   ]
  },
  {
   "cell_type": "markdown",
   "metadata": {
    "id": "As2xloM9H_HH"
   },
   "source": [
    "Prompt the user to enter a list of numbers separated by commas and calculate the average of those numbers.\n"
   ]
  },
  {
   "cell_type": "code",
   "execution_count": null,
   "metadata": {
    "colab": {
     "base_uri": "https://localhost:8080/"
    },
    "executionInfo": {
     "elapsed": 10639,
     "status": "ok",
     "timestamp": 1722923949351,
     "user": {
      "displayName": "Nikhil S G",
      "userId": "11597562071480903754"
     },
     "user_tz": -330
    },
    "id": "VeaksUh7QqQj",
    "outputId": "6a2d2d4c-25bf-4718-d638-3f2e8622d2f6"
   },
   "outputs": [
    {
     "name": "stdout",
     "output_type": "stream",
     "text": [
      "Enter Numbers into list separated by commas: 1,2,3,,a,4,5\n",
      "Ignoring invalid input: \n",
      "Ignoring invalid input: a\n",
      "The average of the numbers in list is:  3.0\n"
     ]
    }
   ],
   "source": [
    "Numlist = []\n",
    "numstr = input(\"Enter Numbers into list separated by commas: \")\n",
    "num = numstr.split(',')\n",
    "\n",
    "for n in num:\n",
    "    try:\n",
    "        Numlist.append(float(n))\n",
    "    except ValueError:\n",
    "        print(f\"Ignoring invalid input: {n}\")\n",
    "\n",
    "if Numlist:\n",
    "    print(\"The average of the numbers in list is: \", sum(Numlist)/len(Numlist))\n",
    "else:\n",
    "    print(\"No valid numbers were entered.\")"
   ]
  },
  {
   "cell_type": "markdown",
   "metadata": {
    "id": "4zSln5sEIBSg"
   },
   "source": [
    "Write a program that asks the user for their first and last name separately and then prints their full name in reverse order (last name, first name)."
   ]
  },
  {
   "cell_type": "code",
   "execution_count": null,
   "metadata": {
    "colab": {
     "base_uri": "https://localhost:8080/"
    },
    "executionInfo": {
     "elapsed": 10395,
     "status": "ok",
     "timestamp": 1722924198772,
     "user": {
      "displayName": "Nikhil S G",
      "userId": "11597562071480903754"
     },
     "user_tz": -330
    },
    "id": "7mIY24xSRahk",
    "outputId": "badc1f18-da95-40f5-eb84-c2ad43c8d5c2"
   },
   "outputs": [
    {
     "name": "stdout",
     "output_type": "stream",
     "text": [
      "Enter your First Name: Nikhil\n",
      "Enter your Second Name: Gouda\n",
      "Gouda Nikhil\n"
     ]
    }
   ],
   "source": [
    "firstName = input(\"Enter your First Name: \")\n",
    "secondName = input(\"Enter your Second Name: \")\n",
    "print(secondName +\" \"+ firstName)\n"
   ]
  },
  {
   "cell_type": "markdown",
   "metadata": {
    "id": "SoOQJIasSTDt"
   },
   "source": [
    "**Convert User Input**\n",
    "\n"
   ]
  },
  {
   "cell_type": "markdown",
   "metadata": {
    "id": "mtKKkgNhSU_s"
   },
   "source": [
    "Ask the user to enter a number and convert it to an integer.\n"
   ]
  },
  {
   "cell_type": "code",
   "execution_count": null,
   "metadata": {
    "colab": {
     "base_uri": "https://localhost:8080/"
    },
    "executionInfo": {
     "elapsed": 7426,
     "status": "ok",
     "timestamp": 1722924569295,
     "user": {
      "displayName": "Nikhil S G",
      "userId": "11597562071480903754"
     },
     "user_tz": -330
    },
    "id": "jiTkwX7xTLv0",
    "outputId": "988da4a9-7117-40aa-8249-dcdd5f806eb6"
   },
   "outputs": [
    {
     "name": "stdout",
     "output_type": "stream",
     "text": [
      "Enter a number: 123456\n",
      "123456\n"
     ]
    }
   ],
   "source": [
    "Num = input(\"Enter a number: \")\n",
    "print(int(float(Num)))"
   ]
  },
  {
   "cell_type": "markdown",
   "metadata": {
    "id": "ScA4-ZPZTMAk"
   },
   "source": [
    "Prompt the user for a floating-point number and convert it to an integer.\n"
   ]
  },
  {
   "cell_type": "code",
   "execution_count": null,
   "metadata": {
    "colab": {
     "base_uri": "https://localhost:8080/"
    },
    "executionInfo": {
     "elapsed": 3952,
     "status": "ok",
     "timestamp": 1722924418641,
     "user": {
      "displayName": "Nikhil S G",
      "userId": "11597562071480903754"
     },
     "user_tz": -330
    },
    "id": "7Uzb5tAOSpWQ",
    "outputId": "0fc03303-39ee-4c6f-d7b1-45bfb489e40a"
   },
   "outputs": [
    {
     "name": "stdout",
     "output_type": "stream",
     "text": [
      "Enter a number: 176.784\n",
      "176\n"
     ]
    }
   ],
   "source": [
    "Num = float(input(\"Enter a number: \"))\n",
    "print(int(Num))"
   ]
  },
  {
   "cell_type": "markdown",
   "metadata": {
    "id": "NlRpfvd1SZwd"
   },
   "source": [
    "Write a program that asks for a string input and converts it to uppercase.\n"
   ]
  },
  {
   "cell_type": "code",
   "execution_count": null,
   "metadata": {
    "colab": {
     "base_uri": "https://localhost:8080/"
    },
    "executionInfo": {
     "elapsed": 25020,
     "status": "ok",
     "timestamp": 1722924627464,
     "user": {
      "displayName": "Nikhil S G",
      "userId": "11597562071480903754"
     },
     "user_tz": -330
    },
    "id": "0TGC9u3vSqGl",
    "outputId": "183bad87-7262-4a10-87ea-fef0f3e30ecf"
   },
   "outputs": [
    {
     "name": "stdout",
     "output_type": "stream",
     "text": [
      "Enter a string: wElCome To Msis ml lab\n",
      "WELCOME TO MSIS ML LAB\n"
     ]
    }
   ],
   "source": [
    "string = input(\"Enter a string: \")\n",
    "print(string.upper())"
   ]
  },
  {
   "cell_type": "markdown",
   "metadata": {
    "id": "YKPCUZCXSb3d"
   },
   "source": [
    "propmt the user to enter a number and print its binary representation.\n"
   ]
  },
  {
   "cell_type": "code",
   "execution_count": null,
   "metadata": {
    "colab": {
     "base_uri": "https://localhost:8080/"
    },
    "executionInfo": {
     "elapsed": 4097,
     "status": "ok",
     "timestamp": 1722924794812,
     "user": {
      "displayName": "Nikhil S G",
      "userId": "11597562071480903754"
     },
     "user_tz": -330
    },
    "id": "B19buVJmSq2m",
    "outputId": "6ae78790-c882-4a43-ee87-378c576222ea"
   },
   "outputs": [
    {
     "name": "stdout",
     "output_type": "stream",
     "text": [
      "Enter a number: 10\n",
      "1010\n"
     ]
    }
   ],
   "source": [
    "Num1 = int(input(\"Enter a number: \"))\n",
    "print(bin(Num1)[2:])"
   ]
  },
  {
   "cell_type": "markdown",
   "metadata": {
    "id": "rm7R47g0SdpE"
   },
   "source": [
    "Create a program that takes a user input as a string and converts it to a list of characters.\n"
   ]
  },
  {
   "cell_type": "code",
   "execution_count": null,
   "metadata": {
    "colab": {
     "base_uri": "https://localhost:8080/"
    },
    "executionInfo": {
     "elapsed": 4738,
     "status": "ok",
     "timestamp": 1722924826982,
     "user": {
      "displayName": "Nikhil S G",
      "userId": "11597562071480903754"
     },
     "user_tz": -330
    },
    "id": "bqyzZIu-SrWF",
    "outputId": "6ecaf54c-177b-4e6f-8885-a121c471ec84"
   },
   "outputs": [
    {
     "name": "stdout",
     "output_type": "stream",
     "text": [
      "Enter a string: Hello\n",
      "['H', 'e', 'l', 'l', 'o']\n"
     ]
    }
   ],
   "source": [
    "string = input(\"Enter a string: \")\n",
    "print(list(string))"
   ]
  },
  {
   "cell_type": "markdown",
   "metadata": {
    "id": "iHGpAvkxSfvs"
   },
   "source": [
    "Ask the user to enter a number and convert it to a float.\n"
   ]
  },
  {
   "cell_type": "code",
   "execution_count": null,
   "metadata": {
    "colab": {
     "base_uri": "https://localhost:8080/"
    },
    "executionInfo": {
     "elapsed": 3856,
     "status": "ok",
     "timestamp": 1722924911965,
     "user": {
      "displayName": "Nikhil S G",
      "userId": "11597562071480903754"
     },
     "user_tz": -330
    },
    "id": "s1ODpH5ASru1",
    "outputId": "fa07f9c5-608d-4669-fb75-b4a11e26350d"
   },
   "outputs": [
    {
     "name": "stdout",
     "output_type": "stream",
     "text": [
      "Enter a number: 10\n",
      "10.0\n"
     ]
    }
   ],
   "source": [
    "Num2 = int(input(\"Enter a number: \"))\n",
    "print(float(Num2))"
   ]
  },
  {
   "cell_type": "markdown",
   "metadata": {
    "id": "AByjXqvDShid"
   },
   "source": [
    "Write a program that takes a user input and converts it to a boolean.\n"
   ]
  },
  {
   "cell_type": "code",
   "execution_count": null,
   "metadata": {
    "colab": {
     "base_uri": "https://localhost:8080/"
    },
    "executionInfo": {
     "elapsed": 4312,
     "status": "ok",
     "timestamp": 1722924955574,
     "user": {
      "displayName": "Nikhil S G",
      "userId": "11597562071480903754"
     },
     "user_tz": -330
    },
    "id": "D84qFWYwSsLF",
    "outputId": "3d565f53-ed5f-4964-a8bd-bde0355fe14b"
   },
   "outputs": [
    {
     "name": "stdout",
     "output_type": "stream",
     "text": [
      "Enter a string: Hello\n",
      "True\n"
     ]
    }
   ],
   "source": [
    "string1 = input(\"Enter a string: \")\n",
    "print(bool(string1))"
   ]
  },
  {
   "cell_type": "markdown",
   "metadata": {
    "id": "11mwpq2-SkDG"
   },
   "source": [
    "Prompt the user to enter two numbers and convert them to complex numbers.\n"
   ]
  },
  {
   "cell_type": "code",
   "execution_count": null,
   "metadata": {
    "colab": {
     "base_uri": "https://localhost:8080/"
    },
    "executionInfo": {
     "elapsed": 6794,
     "status": "ok",
     "timestamp": 1722925081939,
     "user": {
      "displayName": "Nikhil S G",
      "userId": "11597562071480903754"
     },
     "user_tz": -330
    },
    "id": "KoB6IZJRSshl",
    "outputId": "e333105d-ba8b-4542-e38f-1ccb578f871c"
   },
   "outputs": [
    {
     "name": "stdout",
     "output_type": "stream",
     "text": [
      "Enter a number: 12\n",
      "Enter a number: 24\n",
      "(12+24j)\n"
     ]
    }
   ],
   "source": [
    "Num1 = int(input(\"Enter a number: \"))\n",
    "Num2 = int(input(\"Enter a number: \"))\n",
    "print(complex(Num1,Num2))"
   ]
  },
  {
   "cell_type": "markdown",
   "metadata": {
    "id": "0hRX4RFuSmRt"
   },
   "source": [
    "Create a program that converts a user-entered string representing a date (e.g., \"2024-08-01\") to a datetime object.\n"
   ]
  },
  {
   "cell_type": "code",
   "execution_count": null,
   "metadata": {
    "colab": {
     "base_uri": "https://localhost:8080/"
    },
    "executionInfo": {
     "elapsed": 12319,
     "status": "ok",
     "timestamp": 1722925275210,
     "user": {
      "displayName": "Nikhil S G",
      "userId": "11597562071480903754"
     },
     "user_tz": -330
    },
    "id": "CDa__JgyStVF",
    "outputId": "a93bdc8f-07f7-4e77-90be-8db1c1b87b68"
   },
   "outputs": [
    {
     "name": "stdout",
     "output_type": "stream",
     "text": [
      "Enter a date (YYYY-MM-DD): 2002-06-13\n",
      "2002-06-13 00:00:00\n"
     ]
    }
   ],
   "source": [
    "from datetime import datetime\n",
    "\n",
    "date_string = input(\"Enter a date (YYYY-MM-DD): \")\n",
    "date_object = datetime.strptime(date_string, '%Y-%m-%d')\n",
    "print(date_object)"
   ]
  },
  {
   "cell_type": "markdown",
   "metadata": {
    "id": "PpxwHGTJSoH1"
   },
   "source": [
    "Write a program that asks the user for a hexadecimal string and converts it to an integer."
   ]
  },
  {
   "cell_type": "code",
   "execution_count": null,
   "metadata": {
    "colab": {
     "base_uri": "https://localhost:8080/"
    },
    "executionInfo": {
     "elapsed": 5679,
     "status": "ok",
     "timestamp": 1722925655324,
     "user": {
      "displayName": "Nikhil S G",
      "userId": "11597562071480903754"
     },
     "user_tz": -330
    },
    "id": "wo7mJOwGStxt",
    "outputId": "78706e4a-9077-41b3-c105-40ff7972998f"
   },
   "outputs": [
    {
     "name": "stdout",
     "output_type": "stream",
     "text": [
      "Enter a hexadecimal string: 1a3f\n",
      "6719\n"
     ]
    }
   ],
   "source": [
    "hexstr = input(\"Enter a hexadecimal string: \")\n",
    "inthex = int(hexstr, 16)\n",
    "print(inthex)"
   ]
  },
  {
   "cell_type": "markdown",
   "metadata": {
    "id": "u7MRGpwrY8wV"
   },
   "source": [
    "**Comparison Operators**\n",
    "\n"
   ]
  },
  {
   "cell_type": "markdown",
   "metadata": {
    "id": "zJcI9H06Y-3F"
   },
   "source": [
    "program that asks the user for two numbers and checks if they are equal.\n"
   ]
  },
  {
   "cell_type": "code",
   "execution_count": null,
   "metadata": {
    "colab": {
     "base_uri": "https://localhost:8080/"
    },
    "executionInfo": {
     "elapsed": 6320,
     "status": "ok",
     "timestamp": 1722926175282,
     "user": {
      "displayName": "Nikhil S G",
      "userId": "11597562071480903754"
     },
     "user_tz": -330
    },
    "id": "pjXMwseDZovp",
    "outputId": "adea8792-96f4-43ff-dbd6-6dcafee8ef2b"
   },
   "outputs": [
    {
     "name": "stdout",
     "output_type": "stream",
     "text": [
      "Enter First Number: 12\n",
      "Enter Second Number: 13\n",
      "The numbers are not equal\n"
     ]
    }
   ],
   "source": [
    "Num1 = int(input(\"Enter First Number: \"))\n",
    "Num2 = int(input(\"Enter Second Number: \"))\n",
    "if Num1 == Num2:\n",
    "  print(\"The numbers are equal\")\n",
    "else:\n",
    "  print(\"The numbers are not equal\")"
   ]
  },
  {
   "cell_type": "markdown",
   "metadata": {
    "id": "FxIvEdOEZBUl"
   },
   "source": [
    "program to compare two user-entered numbers and print the greater.\n"
   ]
  },
  {
   "cell_type": "code",
   "execution_count": null,
   "metadata": {
    "colab": {
     "base_uri": "https://localhost:8080/"
    },
    "executionInfo": {
     "elapsed": 5331,
     "status": "ok",
     "timestamp": 1722926207968,
     "user": {
      "displayName": "Nikhil S G",
      "userId": "11597562071480903754"
     },
     "user_tz": -330
    },
    "id": "mvZWDJs2ZyZn",
    "outputId": "5d3c11c9-689f-4320-afec-edde307cc886"
   },
   "outputs": [
    {
     "name": "stdout",
     "output_type": "stream",
     "text": [
      "Enter First Number: 12\n",
      "Enter Second Number: 13\n",
      "The greater number is:  13\n"
     ]
    }
   ],
   "source": [
    "Num1 = int(input(\"Enter First Number: \"))\n",
    "Num2 = int(input(\"Enter Second Number: \"))\n",
    "if Num1 > Num2:\n",
    "  print(\"The greater number is: \",Num1)\n",
    "else:\n",
    "  print(\"The greater number is: \",Num2)"
   ]
  },
  {
   "cell_type": "markdown",
   "metadata": {
    "id": "2flJkLfRZC72"
   },
   "source": [
    "Ask the user for their age and check if they are old enough to vote (18 or older).\n"
   ]
  },
  {
   "cell_type": "code",
   "execution_count": null,
   "metadata": {
    "colab": {
     "base_uri": "https://localhost:8080/"
    },
    "executionInfo": {
     "elapsed": 4404,
     "status": "ok",
     "timestamp": 1722926231582,
     "user": {
      "displayName": "Nikhil S G",
      "userId": "11597562071480903754"
     },
     "user_tz": -330
    },
    "id": "zaEvkA24Z7eY",
    "outputId": "fd391c63-0fd5-4734-f5a4-27f10c1cc36a"
   },
   "outputs": [
    {
     "name": "stdout",
     "output_type": "stream",
     "text": [
      "Enter your age: 22\n",
      "You are old enough to vote\n"
     ]
    }
   ],
   "source": [
    "age = int(input(\"Enter your age: \"))\n",
    "if age >= 18:\n",
    "  print(\"You are old enough to vote\")\n",
    "else:\n",
    "  print(\"You are not old enough to vote\")"
   ]
  },
  {
   "cell_type": "markdown",
   "metadata": {
    "id": "WuRAn-bfZEl-"
   },
   "source": [
    "Write a program that checks if a user-entered number is positive, negative, or zero.\n"
   ]
  },
  {
   "cell_type": "code",
   "execution_count": null,
   "metadata": {
    "colab": {
     "base_uri": "https://localhost:8080/"
    },
    "executionInfo": {
     "elapsed": 8375,
     "status": "ok",
     "timestamp": 1722926297761,
     "user": {
      "displayName": "Nikhil S G",
      "userId": "11597562071480903754"
     },
     "user_tz": -330
    },
    "id": "70m1BAWNaLMx",
    "outputId": "1bf7b3f4-30ae-43f8-c52f-95d1f5d1ac8d"
   },
   "outputs": [
    {
     "name": "stdout",
     "output_type": "stream",
     "text": [
      "Enter a number: -1\n",
      "The number is negative\n"
     ]
    }
   ],
   "source": [
    "Num1 = int(input(\"Enter a number: \"))\n",
    "if Num1 > 0:\n",
    "  print(\"The number is positive\")\n",
    "elif Num1 < 0:\n",
    "  print(\"The number is negative\")\n",
    "else:\n",
    "  print(\"The number is zero\")"
   ]
  },
  {
   "cell_type": "markdown",
   "metadata": {
    "id": "fDkWT7poZGb3"
   },
   "source": [
    "Create a program that asks the user for two words and checks if they are the same (case-insensitive).\n"
   ]
  },
  {
   "cell_type": "code",
   "execution_count": null,
   "metadata": {
    "colab": {
     "base_uri": "https://localhost:8080/"
    },
    "executionInfo": {
     "elapsed": 8882,
     "status": "ok",
     "timestamp": 1722926393537,
     "user": {
      "displayName": "Nikhil S G",
      "userId": "11597562071480903754"
     },
     "user_tz": -330
    },
    "id": "lkhG24c4aRR4",
    "outputId": "c6321beb-563a-41d5-f1ea-f686518953f8"
   },
   "outputs": [
    {
     "name": "stdout",
     "output_type": "stream",
     "text": [
      "Enter a string: HELLO\n",
      "Enter a string: hello\n",
      "The strings are same\n"
     ]
    }
   ],
   "source": [
    "str1 = input(\"Enter a string: \")\n",
    "str2 = input(\"Enter a string: \")\n",
    "if str1.lower() == str2.lower():\n",
    "  print(\"The strings are same\")\n",
    "else:\n",
    "  print(\"The strings are not same\")"
   ]
  },
  {
   "cell_type": "markdown",
   "metadata": {
    "id": "Z_som938ZI4e"
   },
   "source": [
    "Write a program that checks if a user-entered year is a leap year.\n"
   ]
  },
  {
   "cell_type": "code",
   "execution_count": null,
   "metadata": {
    "colab": {
     "base_uri": "https://localhost:8080/"
    },
    "executionInfo": {
     "elapsed": 7526,
     "status": "ok",
     "timestamp": 1722926632401,
     "user": {
      "displayName": "Nikhil S G",
      "userId": "11597562071480903754"
     },
     "user_tz": -330
    },
    "id": "K40qllS2anZQ",
    "outputId": "1b5caba0-02ed-4d27-8245-6e2e9a3302fd"
   },
   "outputs": [
    {
     "name": "stdout",
     "output_type": "stream",
     "text": [
      "Enter a year: 2000\n",
      "The year is a leap year\n"
     ]
    }
   ],
   "source": [
    "from math import e\n",
    "year = int(input(\"Enter a year: \"))\n",
    "if year % 4 == 0:\n",
    "  if year % 100 == 0:\n",
    "    if year % 400 == 0:\n",
    "      print(\"The year is a leap year\")\n",
    "  else:\n",
    "    print(\"The year is a not leap year\")\n",
    "else:\n",
    "  print(\"The year is a leap year\")"
   ]
  },
  {
   "cell_type": "markdown",
   "metadata": {
    "id": "xfdqYw3UZLJP"
   },
   "source": [
    "Ask the user for a number and check if it is divisible by both 3 and 5.\n"
   ]
  },
  {
   "cell_type": "code",
   "execution_count": null,
   "metadata": {
    "colab": {
     "base_uri": "https://localhost:8080/"
    },
    "executionInfo": {
     "elapsed": 3691,
     "status": "ok",
     "timestamp": 1722926713102,
     "user": {
      "displayName": "Nikhil S G",
      "userId": "11597562071480903754"
     },
     "user_tz": -330
    },
    "id": "evfVimFBby9I",
    "outputId": "3158a50c-7485-4015-916d-39ee024732e6"
   },
   "outputs": [
    {
     "name": "stdout",
     "output_type": "stream",
     "text": [
      "Enter a number: 15\n",
      "The number is divisible by both 3 and 5\n"
     ]
    }
   ],
   "source": [
    "Num = int(input(\"Enter a number: \"))\n",
    "if Num % 3 == 0 and Num % 5 == 0:\n",
    "  print(\"The number is divisible by both 3 and 5\")\n",
    "else:\n",
    "  print(\"The number is not divisible by both 3 and 5\")"
   ]
  },
  {
   "cell_type": "markdown",
   "metadata": {
    "id": "VM0nrBVgZNDH"
   },
   "source": [
    "Create a program that checks if a user-entered string contains the word \"Python\".\n"
   ]
  },
  {
   "cell_type": "code",
   "execution_count": null,
   "metadata": {
    "colab": {
     "base_uri": "https://localhost:8080/"
    },
    "executionInfo": {
     "elapsed": 21293,
     "status": "ok",
     "timestamp": 1722926868476,
     "user": {
      "displayName": "Nikhil S G",
      "userId": "11597562071480903754"
     },
     "user_tz": -330
    },
    "id": "7wPcUGRub3lg",
    "outputId": "ead9d2f3-d98e-4840-fff4-85ae67b72cd4"
   },
   "outputs": [
    {
     "name": "stdout",
     "output_type": "stream",
     "text": [
      "Enter a string: ML Lab Python Code is written\n",
      "The string contains the word Python\n"
     ]
    }
   ],
   "source": [
    "str1 = input(\"Enter a string: \")\n",
    "if \"Python\" in str1:\n",
    "  print(\"The string contains the word Python\")\n",
    "else:\n",
    "  print(\"The string does not contain the word Python\")"
   ]
  },
  {
   "cell_type": "markdown",
   "metadata": {
    "id": "0eulddx0ZQ6J"
   },
   "source": [
    "Write a program that compares the lengths of two user-entered strings and prints which one is longer.\n"
   ]
  },
  {
   "cell_type": "code",
   "execution_count": null,
   "metadata": {
    "colab": {
     "base_uri": "https://localhost:8080/"
    },
    "executionInfo": {
     "elapsed": 13484,
     "status": "ok",
     "timestamp": 1722926967238,
     "user": {
      "displayName": "Nikhil S G",
      "userId": "11597562071480903754"
     },
     "user_tz": -330
    },
    "id": "hWAPK2C2cdDY",
    "outputId": "e8cd3812-b6f8-45fc-d3a4-d3f911599766"
   },
   "outputs": [
    {
     "name": "stdout",
     "output_type": "stream",
     "text": [
      "Enter First string: Hello\n",
      "Enter Second string: MLLAb\n",
      "The strings are of equal length\n"
     ]
    }
   ],
   "source": [
    "str1 = input(\"Enter First string: \")\n",
    "str2 = input(\"Enter Second string: \")\n",
    "if len(str1) > len(str2):\n",
    "  print(\"The first string is longer\")\n",
    "elif len(str1) < len(str2):\n",
    "  print(\"The second string is longer\")\n",
    "else:\n",
    "  print(\"The strings are of equal length\")"
   ]
  },
  {
   "cell_type": "markdown",
   "metadata": {
    "id": "cURJWya6ZSqv"
   },
   "source": [
    "Ask the user for three numbers and check if they can form a triangle (sum of any two sides must be greater than the third side)."
   ]
  },
  {
   "cell_type": "code",
   "execution_count": null,
   "metadata": {
    "colab": {
     "base_uri": "https://localhost:8080/"
    },
    "executionInfo": {
     "elapsed": 11879,
     "status": "ok",
     "timestamp": 1722927222041,
     "user": {
      "displayName": "Nikhil S G",
      "userId": "11597562071480903754"
     },
     "user_tz": -330
    },
    "id": "h-mnqj3vcz84",
    "outputId": "7d62abfc-42a4-454b-9963-35c2a3464559"
   },
   "outputs": [
    {
     "name": "stdout",
     "output_type": "stream",
     "text": [
      "Enter First side: 10\n",
      "Enter Second side: 20\n",
      "Enter Third side: 30\n",
      "They can form a trinagle\n"
     ]
    }
   ],
   "source": [
    "s1 = int(input(\"Enter First side: \"))\n",
    "s2 = int(input(\"Enter Second side: \"))\n",
    "s3 = int(input(\"Enter Third side: \"))\n",
    "if s1+s2 > s3 or s2+s3 > s1 or s1+s3 > s2:\n",
    "  print(\"They can form a trinagle\")\n",
    "else :\n",
    "  print(\"They can't form a trinagle\")"
   ]
  },
  {
   "cell_type": "markdown",
   "metadata": {
    "id": "6XlrjVUUd6fy"
   },
   "source": [
    "**Exception Handling**\n",
    "\n"
   ]
  },
  {
   "cell_type": "markdown",
   "metadata": {
    "id": "hVH98RPQd-b5"
   },
   "source": [
    "Write a program that asks the user to enter a number and catches the ValueError if the input is not a number.\n"
   ]
  },
  {
   "cell_type": "code",
   "execution_count": null,
   "metadata": {
    "colab": {
     "base_uri": "https://localhost:8080/"
    },
    "executionInfo": {
     "elapsed": 4600,
     "status": "ok",
     "timestamp": 1723531709037,
     "user": {
      "displayName": "Nikhil S G",
      "userId": "11597562071480903754"
     },
     "user_tz": -330
    },
    "id": "5lNEP2vWfmTS",
    "outputId": "4076c942-f7c9-4a1a-fde0-4c63e1920d2b"
   },
   "outputs": [
    {
     "name": "stdout",
     "output_type": "stream",
     "text": [
      "Enter a number: gg\n",
      "Invalid input\n"
     ]
    }
   ],
   "source": [
    "num = input(\"Enter a number: \")\n",
    "try:\n",
    "  print(float(num))\n",
    "except ValueError:\n",
    "  print(\"Invalid input\")"
   ]
  },
  {
   "cell_type": "markdown",
   "metadata": {
    "id": "22A3lneDd_-p"
   },
   "source": [
    "Create a program that asks for two numbers and catches the ZeroDivisionError if the second number is zero.\n"
   ]
  },
  {
   "cell_type": "code",
   "execution_count": null,
   "metadata": {
    "colab": {
     "base_uri": "https://localhost:8080/"
    },
    "executionInfo": {
     "elapsed": 8670,
     "status": "ok",
     "timestamp": 1723531763419,
     "user": {
      "displayName": "Nikhil S G",
      "userId": "11597562071480903754"
     },
     "user_tz": -330
    },
    "id": "zN718bgQeQa7",
    "outputId": "e329fc71-e02a-4aa5-fafa-2dadbe5f7ea7"
   },
   "outputs": [
    {
     "name": "stdout",
     "output_type": "stream",
     "text": [
      "Enter First number: 12\n",
      "Enter Second number: 0\n",
      "Invalid input\n"
     ]
    }
   ],
   "source": [
    "num1 = int(input(\"Enter First number: \"))\n",
    "num2 = int(input(\"Enter Second number: \"))\n",
    "try:\n",
    "  print(num1/num2)\n",
    "except ZeroDivisionError:\n",
    "  print(\"Invalid input\")"
   ]
  },
  {
   "cell_type": "markdown",
   "metadata": {
    "id": "a35rOguPeBxZ"
   },
   "source": [
    "Write a program that prompts the user for a filename and handles the FileNotFoundError if the file does not exist.\n"
   ]
  },
  {
   "cell_type": "code",
   "execution_count": null,
   "metadata": {
    "colab": {
     "base_uri": "https://localhost:8080/"
    },
    "executionInfo": {
     "elapsed": 4665,
     "status": "ok",
     "timestamp": 1723531838342,
     "user": {
      "displayName": "Nikhil S G",
      "userId": "11597562071480903754"
     },
     "user_tz": -330
    },
    "id": "C-F_jtIneRhT",
    "outputId": "f5af01f1-d584-490e-e5a7-e15a8e530e2a"
   },
   "outputs": [
    {
     "name": "stdout",
     "output_type": "stream",
     "text": [
      "Enter a filename: read\n",
      "File not found\n"
     ]
    }
   ],
   "source": [
    "filename = input(\"Enter a filename: \")\n",
    "try:\n",
    "  with open(filename, 'r') as file:\n",
    "    content = file.read()\n",
    "    print(content)\n",
    "except FileNotFoundError:\n",
    "  print(\"File not found\")"
   ]
  },
  {
   "cell_type": "markdown",
   "metadata": {
    "id": "62B6DNwHeDPZ"
   },
   "source": [
    "Ask the user to enter a number and handle both ValueError and TypeError exceptions.\n"
   ]
  },
  {
   "cell_type": "code",
   "execution_count": null,
   "metadata": {
    "colab": {
     "base_uri": "https://localhost:8080/"
    },
    "executionInfo": {
     "elapsed": 7755,
     "status": "ok",
     "timestamp": 1723531957293,
     "user": {
      "displayName": "Nikhil S G",
      "userId": "11597562071480903754"
     },
     "user_tz": -330
    },
    "id": "-6-fSZ3JeSBC",
    "outputId": "43ea1f91-00ee-4aa2-8ddd-0b67d306697a"
   },
   "outputs": [
    {
     "name": "stdout",
     "output_type": "stream",
     "text": [
      "Enter a number: [1,2,3]\n",
      "Invalid input ValueError\n"
     ]
    }
   ],
   "source": [
    "num = input(\"Enter a number: \")\n",
    "try:\n",
    "  print(float(num))\n",
    "except ValueError:\n",
    "  print(\"Invalid input ValueError\")\n",
    "except TypeError:\n",
    "  print(\"Invalid input TypeError\")"
   ]
  },
  {
   "cell_type": "markdown",
   "metadata": {
    "id": "Np4exptCeE9B"
   },
   "source": [
    "Create a program that tries to read a file and catches any IOError that may occur.\n"
   ]
  },
  {
   "cell_type": "code",
   "execution_count": 1,
   "metadata": {
    "colab": {
     "base_uri": "https://localhost:8080/"
    },
    "executionInfo": {
     "elapsed": 7631,
     "status": "ok",
     "timestamp": 1728289746405,
     "user": {
      "displayName": "Nikhil S G",
      "userId": "11597562071480903754"
     },
     "user_tz": -330
    },
    "id": "evkXdEVieScd",
    "outputId": "46aa3fd5-6bd6-40dc-d714-76b322f8366e"
   },
   "outputs": [
    {
     "name": "stdout",
     "output_type": "stream",
     "text": [
      "Enter a number: s\n",
      "Invalid input ValueError\n"
     ]
    }
   ],
   "source": [
    "num = input(\"Enter a number: \")\n",
    "try:\n",
    "  print(float(num))\n",
    "except ValueError:\n",
    "  print(\"Invalid input ValueError\")\n",
    "except TypeError:\n",
    "  print(\"Invalid input TypeError\")"
   ]
  },
  {
   "cell_type": "markdown",
   "metadata": {
    "id": "OF5h0JBoeGZz"
   },
   "source": [
    "Write a program that asks the user for a list of numbers separated by spaces and handles the ValueError if any input is not a number.\n"
   ]
  },
  {
   "cell_type": "code",
   "execution_count": 2,
   "metadata": {
    "colab": {
     "base_uri": "https://localhost:8080/"
    },
    "executionInfo": {
     "elapsed": 8090,
     "status": "ok",
     "timestamp": 1728289754488,
     "user": {
      "displayName": "Nikhil S G",
      "userId": "11597562071480903754"
     },
     "user_tz": -330
    },
    "id": "-jKLaH4PeS-j",
    "outputId": "25cffb44-a4f3-4ea4-db73-724908f56095"
   },
   "outputs": [
    {
     "name": "stdout",
     "output_type": "stream",
     "text": [
      "Enter a list of numbers separated by spaces: 1 2 s\n",
      "Invalid input ValueError\n"
     ]
    }
   ],
   "source": [
    "lst = input(\"Enter a list of numbers separated by spaces: \").split()\n",
    "try:\n",
    "  lst = [float(num) for num in lst]\n",
    "  print(lst)\n",
    "except ValueError:\n",
    "  print(\"Invalid input ValueError\")"
   ]
  },
  {
   "cell_type": "markdown",
   "metadata": {
    "id": "3mkNE6t2eH8r"
   },
   "source": [
    "Ask the user for a dictionary key and handle the KeyError if the key is not found in a predefined dictionary.\n"
   ]
  },
  {
   "cell_type": "code",
   "execution_count": 3,
   "metadata": {
    "colab": {
     "base_uri": "https://localhost:8080/"
    },
    "executionInfo": {
     "elapsed": 9670,
     "status": "ok",
     "timestamp": 1728289764145,
     "user": {
      "displayName": "Nikhil S G",
      "userId": "11597562071480903754"
     },
     "user_tz": -330
    },
    "id": "BScbCr2meTpb",
    "outputId": "3e94b1a9-2a6d-4a61-dd18-48779d04b4e0"
   },
   "outputs": [
    {
     "name": "stdout",
     "output_type": "stream",
     "text": [
      "Enter a key: d\n",
      "Key not found in dictionary\n"
     ]
    }
   ],
   "source": [
    "dst = {'a': 1, 'b': 2, 'c': 3}\n",
    "key = input(\"Enter a key: \")\n",
    "try:\n",
    "  print(dst[key])\n",
    "except KeyError:\n",
    "  print(\"Key not found in dictionary\")"
   ]
  },
  {
   "cell_type": "markdown",
   "metadata": {
    "id": "g6jbpWvqeJlj"
   },
   "source": [
    "Create a program that catches the IndexError if the user tries to access an invalid index in a list.\n"
   ]
  },
  {
   "cell_type": "code",
   "execution_count": 4,
   "metadata": {
    "colab": {
     "base_uri": "https://localhost:8080/"
    },
    "executionInfo": {
     "elapsed": 7760,
     "status": "ok",
     "timestamp": 1728289789028,
     "user": {
      "displayName": "Nikhil S G",
      "userId": "11597562071480903754"
     },
     "user_tz": -330
    },
    "id": "Fe2kIPqFeUED",
    "outputId": "fe2f406e-4e7b-4e9a-895c-0f30107ca191"
   },
   "outputs": [
    {
     "name": "stdout",
     "output_type": "stream",
     "text": [
      "Enter an index: 9\n",
      "Invalid index\n"
     ]
    }
   ],
   "source": [
    "lst = [1, 2, 3, 4, 5]\n",
    "index = int(input(\"Enter an index: \"))\n",
    "try:\n",
    "  print(lst[index])\n",
    "except IndexError:\n",
    "  print(\"Invalid index\")"
   ]
  },
  {
   "cell_type": "markdown",
   "metadata": {
    "id": "FADcJmn0eLIq"
   },
   "source": [
    "Write a program that attempts to convert a user-entered string to an integer and catches the ValueError.\n"
   ]
  },
  {
   "cell_type": "code",
   "execution_count": 5,
   "metadata": {
    "colab": {
     "base_uri": "https://localhost:8080/"
    },
    "executionInfo": {
     "elapsed": 5861,
     "status": "ok",
     "timestamp": 1728289813947,
     "user": {
      "displayName": "Nikhil S G",
      "userId": "11597562071480903754"
     },
     "user_tz": -330
    },
    "id": "OCyGB79VeU2y",
    "outputId": "a7363ac7-4cfc-439f-85dc-13d39c1a9acf"
   },
   "outputs": [
    {
     "name": "stdout",
     "output_type": "stream",
     "text": [
      "Enter a string: ss\n",
      "Invalid input\n"
     ]
    }
   ],
   "source": [
    "string = input(\"Enter a string: \")\n",
    "try:\n",
    "  print(int(string))\n",
    "except ValueError:\n",
    "  print(\"Invalid input\")"
   ]
  },
  {
   "cell_type": "markdown",
   "metadata": {
    "id": "IrykrHfmeM4b"
   },
   "source": [
    "Ask the user for an integer and handle the OverflowError if the number is too large."
   ]
  },
  {
   "cell_type": "code",
   "execution_count": 10,
   "metadata": {
    "colab": {
     "base_uri": "https://localhost:8080/"
    },
    "executionInfo": {
     "elapsed": 4946,
     "status": "ok",
     "timestamp": 1728290720930,
     "user": {
      "displayName": "Nikhil S G",
      "userId": "11597562071480903754"
     },
     "user_tz": -330
    },
    "id": "wh_-GA6FeVgB",
    "outputId": "7c1ae677-82ea-40b3-e466-08a1dbdf08f8"
   },
   "outputs": [
    {
     "name": "stdout",
     "output_type": "stream",
     "text": [
      "Enter a number: 45686464\n",
      "45686464\n"
     ]
    }
   ],
   "source": [
    "num = (input(\"Enter a number: \"))\n",
    "try:\n",
    "  print(int(num))\n",
    "except OverflowError:\n",
    "  print(\"Invalid input\")"
   ]
  }
 ],
 "metadata": {
  "colab": {
   "provenance": [
    {
     "file_id": "1yEK-xycMUZmjud7LGwTyzpyfkTl6PV75",
     "timestamp": 1722920774158
    }
   ]
  },
  "kernelspec": {
   "display_name": "Python 3",
   "name": "python3"
  },
  "language_info": {
   "codemirror_mode": {
    "name": "ipython",
    "version": 3
   },
   "file_extension": ".py",
   "mimetype": "text/x-python",
   "name": "python",
   "nbconvert_exporter": "python",
   "pygments_lexer": "ipython3",
   "version": "3.11.0"
  }
 },
 "nbformat": 4,
 "nbformat_minor": 0
}
